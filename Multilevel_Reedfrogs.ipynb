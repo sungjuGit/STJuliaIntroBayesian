{
 "cells": [
  {
   "cell_type": "code",
   "execution_count": null,
   "id": "3820d725-7fb0-4df1-9a76-99ab1d6693c9",
   "metadata": {},
   "outputs": [],
   "source": [
    "using Turing\n",
    "using DataFrames\n",
    "using CSV\n",
    "using Distributions\n",
    "using StatsFuns\n",
    "using StatsPlots\n",
    "using StatsBase\n",
    "using Random\n",
    "\n",
    "default(label=false);"
   ]
  },
  {
   "cell_type": "markdown",
   "id": "5d6cb06a",
   "metadata": {},
   "source": [
    "## Using experimental data (first half of the lecture notes)"
   ]
  },
  {
   "cell_type": "code",
   "execution_count": null,
   "id": "2264bc32-bbd7-4ff0-b882-0c6d0098ecac",
   "metadata": {},
   "outputs": [],
   "source": [
    "d = DataFrame(CSV.File(\"data/reedfrogs.csv\"))\n",
    "describe(d)\n",
    "\n",
    "d.tank = 1:nrow(d)\n",
    "d\n"
   ]
  },
  {
   "cell_type": "markdown",
   "id": "79be7548-175e-40c3-97f7-61abc5b542a1",
   "metadata": {},
   "source": [
    "### Conventional single-level model"
   ]
  },
  {
   "cell_type": "code",
   "execution_count": null,
   "id": "2ad40975-415a-4ef4-9584-0c53992301f6",
   "metadata": {},
   "outputs": [],
   "source": [
    "@model function frog_single_level(S, N, tank)\n",
    "\n",
    "    a = zeros(length(tank))\n",
    "    for i in 1:length(tank)\n",
    "        a[i] ~ Normal(0, 1.5)\n",
    "    end\n",
    "    \n",
    "    for i in 1:length(tank)\n",
    "        p = logistic(a[i])  # probability of survival or proportional survival\n",
    "        S[i] ~ Binomial(N[i], p)\n",
    "    end\n",
    "\n",
    "end\n",
    "\n",
    "#@model function frog_single_level(S, N, tank)\n",
    "#\n",
    "#    a ~ filldist(Normal(0, 1.5), length(tank))  # offsets are defined for each tank\n",
    "#    p = logistic.(a)  # probability of survival or proportional survival\n",
    "#    S .~ Binomial.(N, p)\n",
    "#\n",
    "#end"
   ]
  },
  {
   "cell_type": "code",
   "execution_count": null,
   "id": "aa8d4e41-ec9d-4308-be95-f099c005f642",
   "metadata": {},
   "outputs": [],
   "source": [
    "Random.seed!(1)\n",
    "frog_single_level_ch = sample(frog_single_level(d.surv, d.density, d.tank), NUTS(200, 0.65, init_ϵ=0.5), 1000);\n",
    "frog_single_level_df = DataFrame(frog_single_level_ch)"
   ]
  },
  {
   "cell_type": "markdown",
   "id": "5fd767a9-2b46-4416-9ef1-521741ef564b",
   "metadata": {},
   "source": [
    "### Multilevel model"
   ]
  },
  {
   "cell_type": "code",
   "execution_count": null,
   "id": "55e9d8d4-228f-4248-a5ca-afe318e7e0d3",
   "metadata": {},
   "outputs": [],
   "source": [
    "@model function frog_multi_level(S, N, tank)\n",
    "\n",
    "    σ ~ Exponential()\n",
    "    ā ~ Normal(0, 1.5)\n",
    "\n",
    "    a = zeros(length(tank))  # fancier way: a = Vector{Real}(undef, length(tank))\n",
    "    for i in 1:length(tank)\n",
    "        a[i] ~ Normal(ā, σ)\n",
    "    end\n",
    "    \n",
    "    for i in 1:length(tank)\n",
    "        p = logistic(a[i])  # probability of survival or proportional survival\n",
    "        S[i] ~ Binomial(N[i], p)\n",
    "    end\n",
    "\n",
    "end\n",
    "\n",
    "\n",
    "# @model function frog_multi_level(S, N, tank)\n",
    "\n",
    "#     σ ~ Exponential()\n",
    "#     ā ~ Normal(0, 1.5)\n",
    "\n",
    "#     a ~ filldist(Normal(ā, σ), length(tank))\n",
    "#     p = logistic.(a)\n",
    "#     S .~ Binomial.(N, p)\n",
    "\n",
    "# end"
   ]
  },
  {
   "cell_type": "code",
   "execution_count": null,
   "id": "404b8747-a56d-4616-ae50-e806963cbf12",
   "metadata": {},
   "outputs": [],
   "source": [
    "Random.seed!(1)\n",
    "frog_multi_level_ch = sample(frog_multi_level(d.surv, d.density, d.tank), NUTS(200, 0.65, init_ϵ=0.2), 1000)\n",
    "frog_multi_level_df = DataFrame(frog_multi_level_ch);"
   ]
  },
  {
   "cell_type": "markdown",
   "id": "889ceaf4",
   "metadata": {},
   "source": [
    "### Analysis"
   ]
  },
  {
   "cell_type": "code",
   "execution_count": null,
   "id": "8d2e2437-adc3-4a0f-b047-4e6f0a1a165c",
   "metadata": {},
   "outputs": [],
   "source": [
    "single_level_surival = zeros(nrow(frog_single_level_df), nrow(d));\n",
    "\n",
    "for j in 1:nrow(frog_single_level_df)\n",
    "    for i in 1:nrow(d)\n",
    "        tank_id = d.tank[i]\n",
    "        tank_density = d.density[i]\n",
    "        tank_surv = d.surv[i]  \n",
    "        single_level_surival[j,i] = binomlogpdf(tank_density, logistic(frog_single_level_df[j,\"a[$(tank_id)]\"]), tank_surv)\n",
    "    end\n",
    "end\n",
    "\n",
    "single_level_surival"
   ]
  },
  {
   "cell_type": "code",
   "execution_count": null,
   "id": "f85dec22",
   "metadata": {},
   "outputs": [],
   "source": [
    "multi_level_survival = zeros(nrow(frog_multi_level_df), nrow(d));\n",
    "\n",
    "for j in 1:nrow(frog_multi_level_df)\n",
    "    for i in 1:nrow(d)\n",
    "        tank_id = d.tank[i]\n",
    "        tank_density = d.density[i]\n",
    "        tank_surv = d.surv[i]  \n",
    "        multi_level_survival[j,i] = binomlogpdf(tank_density, logistic(frog_multi_level_df[j,\"a[$(tank_id)]\"]), tank_surv)\n",
    "    end\n",
    "end\n",
    "\n",
    "multi_level_survival"
   ]
  },
  {
   "cell_type": "code",
   "execution_count": null,
   "id": "359053c4-4dec-4e6e-b73b-1b9d08334b47",
   "metadata": {},
   "outputs": [],
   "source": [
    "## a \"fancier\" and more compact way\n",
    "\n",
    "# link_fun = (chain_df, dr) -> begin\n",
    "#     a = chain_df[:,\"a[$(dr.tank)]\"]\n",
    "#     p = logistic.(a)\n",
    "#     binomlogpdf.(dr.density, p, dr.surv)\n",
    "# end\n",
    "\n",
    "# single_level_survival = map( dr -> link_fun(frog_single_level_df, dr), eachrow(d) )\n",
    "# single_level_survival = hcat(single_level_survival...)\n",
    "\n",
    "# multi_level_survival = map( dr -> link_fun(frog_multi_level_df, dr), eachrow(d) )\n",
    "# multi_level_survival = hcat(multi_level_survival...);\n"
   ]
  },
  {
   "cell_type": "code",
   "execution_count": null,
   "id": "b1e7b246-de94-4dae-96f3-61acedcbfb0d",
   "metadata": {},
   "outputs": [],
   "source": [
    "# sample 10_000 samples again from the multi-level model\n",
    "\n",
    "post = sample(frog_multi_level_ch, 10000)\n",
    "post_df = DataFrame(post)\n"
   ]
  },
  {
   "cell_type": "code",
   "execution_count": null,
   "id": "196ce6d2",
   "metadata": {},
   "outputs": [],
   "source": [
    "propsurv_est = [                # array comprehension\n",
    "    logistic(mean(post_df[:,\"a[$i]\"]))\n",
    "    for i ∈ 1:nrow(d)\n",
    "]"
   ]
  },
  {
   "cell_type": "code",
   "execution_count": null,
   "id": "fd8efe42-bed7-409d-bfee-ef5a8e0c7384",
   "metadata": {},
   "outputs": [],
   "source": [
    "scatter(propsurv_est, mc=:white, label=\"model\", legend=:topright, xlab=\"tank\", ylab=\"proportion survival\", ylim=(-0.05, 1.05))\n"
   ]
  },
  {
   "cell_type": "code",
   "execution_count": null,
   "id": "d3b1a80f-450d-4f24-9009-c1e441d5a2c5",
   "metadata": {},
   "outputs": [],
   "source": [
    "scatter!(d.propsurv, mc=:blue, ms=3, label=\"data\")\n",
    "hline!([mean(logistic.(post_df.ā))], ls=:dash, c=:black)\n",
    "vline!([16.5, 32.5], c=:black)\n",
    "annotate!([\n",
    "        (8, 0, (\"small tanks\", 10)),\n",
    "        (16+8, 0, (\"medium tanks\", 10)),\n",
    "        (32+8, 0, (\"large tanks\", 10))\n",
    "])\n"
   ]
  },
  {
   "cell_type": "code",
   "execution_count": null,
   "id": "b591a7df-4bef-469c-8e7a-ef029425d68a",
   "metadata": {},
   "outputs": [],
   "source": [
    "p1 = plot(xlim=(-3, 4), xlab=\"Log-odds survival\", ylab=\"Density\");\n",
    "\n",
    "for j in 1:100  # first 100 rows (or samples)\n",
    "    plot!(Normal(post_df.ā[j], post_df.σ[j]), c=:black, alpha=0.2)\n",
    "end\n",
    "\n",
    "## a fancier way\n",
    "# for r ∈ first(eachrow(post_df), 100)\n",
    "#     plot!(Normal(r.ā, r.σ), c=:black, alpha=0.2)\n",
    "# end\n",
    "\n",
    "p1\n"
   ]
  },
  {
   "cell_type": "code",
   "execution_count": null,
   "id": "c74c78ec-5707-44b4-bd02-feba621c51cf",
   "metadata": {},
   "outputs": [],
   "source": [
    "p2 = plot(xlab=\"Probability survival\", ylab=\"Density\", xlim=(-0.1, 1.1));\n",
    "\n",
    "sim_tanks_logistic = zeros(8000)\n",
    "for j in 1:8000  # 8000 rows (or samples)\n",
    "    sim_tanks_logistic[j] = logistic( rand( Normal(post_df.ā[j], post_df.σ[j]) ) )\n",
    "end\n",
    "density!(sim_tanks_logistic, lw=2)\n",
    "\n",
    "# a more compact code using broadcasting\n",
    "#sim_tanks = rand.(Normal.(post_df.ā[1:8000], post_df.σ[1:8000]));  # we could have used for loops\n",
    "#density!(logistic.(sim_tanks), lw=2)\n",
    "\n",
    "plot(p1, p2, size=(800, 400))\n"
   ]
  },
  {
   "cell_type": "markdown",
   "id": "c9eb7c34",
   "metadata": {},
   "source": [
    "## Using synthetic data"
   ]
  },
  {
   "cell_type": "markdown",
   "id": "f1ef0ada",
   "metadata": {},
   "source": [
    "### Generate syntheric data"
   ]
  },
  {
   "cell_type": "code",
   "execution_count": null,
   "id": "40c2fb61-37e7-4f05-b8af-3075cb295799",
   "metadata": {},
   "outputs": [],
   "source": [
    "## Varying effects and the underfitting/overfitting trade-off\n",
    "# Generate a mock data to test the models\n",
    "\n",
    "Random.seed!(1)\n",
    "\n",
    "ā = 1.5\n",
    "σ = 1.5\n",
    "nponds = 60\n",
    "Ni = repeat([3, 10, 25, 35], inner=15);\n",
    "\n",
    "a_pond = rand(Normal(ā, σ), nponds);    # mock \"true\" data\n",
    "\n",
    "dsim = DataFrame(pond=1:nponds, Ni=Ni, true_a=a_pond);\n",
    "\n",
    "dsim.true_p = logistic.(dsim.true_a);\n",
    "\n",
    "dsim\n"
   ]
  },
  {
   "cell_type": "code",
   "execution_count": null,
   "id": "0be18b7d",
   "metadata": {},
   "outputs": [],
   "source": [
    "dsim.Si = rand.(Binomial.(dsim.Ni, dsim.true_p));\n",
    "\n",
    "dsim.p_sim = dsim.Si ./ dsim.Ni;"
   ]
  },
  {
   "cell_type": "code",
   "execution_count": null,
   "id": "1f699709",
   "metadata": {},
   "outputs": [],
   "source": [
    "dsim"
   ]
  },
  {
   "cell_type": "markdown",
   "id": "bfadc93a",
   "metadata": {},
   "source": [
    "### Single-level model"
   ]
  },
  {
   "cell_type": "code",
   "execution_count": null,
   "id": "c9fac4c4",
   "metadata": {},
   "outputs": [],
   "source": [
    "# no pooling (single-level model)\n",
    "@model function pond_single_level(Si, Ni)\n",
    "\n",
    "    a_pond = zeros(length(Ni))\n",
    "    for i in 1:length(Ni)\n",
    "        a_pond[i] ~ Normal(0, 1.5)\n",
    "    end\n",
    "    \n",
    "    for i in 1:length(Ni)\n",
    "        p = logistic(a_pond[i])  # probability of survival or proportional survival\n",
    "        Si[i] ~ Binomial(Ni[i], p)\n",
    "    end\n",
    "\n",
    "end\n",
    "\n",
    "#@model function frog_single_level(S, N, tank)\n",
    "#\n",
    "#    a_pond ~ filldist(Normal(0, 1.5), length(Ni))  # offsets are defined for each tank\n",
    "#    p = logistic.(a_pond)  # probability of survival or proportional survival\n",
    "#    Si .~ Binomial.(Ni, p)\n",
    "#\n",
    "#end"
   ]
  },
  {
   "cell_type": "markdown",
   "id": "6746e190",
   "metadata": {},
   "source": [
    "### Multi-level model"
   ]
  },
  {
   "cell_type": "code",
   "execution_count": null,
   "id": "609c2265-41d4-4d5e-9b6e-77cb4b0a0b1e",
   "metadata": {},
   "outputs": [],
   "source": [
    "# partial pooling using the multi-level model\n",
    "@model function pond_multi_level(Si, Ni) #, pond)\n",
    "\n",
    "    σ ~ Exponential()\n",
    "    ā ~ Normal(0, 1.5)\n",
    "\n",
    "    a_pond = zeros(length(Ni))  # fancier way: a = Vector{Real}(undef, length(tank))\n",
    "    for i in 1:length(Ni)\n",
    "        a_pond[i] ~ Normal(ā, σ)\n",
    "    end\n",
    "    \n",
    "    for i in 1:length(Ni)\n",
    "        p = logistic(a_pond[i])  # probability of survival or proportional survival\n",
    "        Si[i] ~ Binomial(Ni[i], p)\n",
    "    end\n",
    "\n",
    "    # # a more compact way\n",
    "    # a_pond ~ filldist(Normal(ā, σ), length(Ni))\n",
    "    # p = logistic.(a_pond)\n",
    "    # @. Si ~ Binomial(Ni, p)\n",
    "\n",
    "end"
   ]
  },
  {
   "cell_type": "markdown",
   "id": "20eafcee",
   "metadata": {},
   "source": [
    "### Running MC"
   ]
  },
  {
   "cell_type": "code",
   "execution_count": null,
   "id": "53d9eef2",
   "metadata": {},
   "outputs": [],
   "source": [
    "Random.seed!(1)\n",
    "pond_single_level_ch = sample(pond_single_level(dsim.Si, dsim.Ni), NUTS(), 1000);\n",
    "pond_single_level_df = DataFrame(pond_single_level_ch)"
   ]
  },
  {
   "cell_type": "code",
   "execution_count": null,
   "id": "2b18ea27-d278-4725-843a-5eb482538204",
   "metadata": {},
   "outputs": [],
   "source": [
    "Random.seed!(1)\n",
    "pond_multi_level_ch = sample(pond_multi_level(dsim.Si, dsim.Ni), NUTS(), 1000)\n",
    "pond_multi_level_df = DataFrame(pond_multi_level_ch)\n"
   ]
  },
  {
   "cell_type": "markdown",
   "id": "b483d0d9",
   "metadata": {},
   "source": [
    "### Analysis of errors"
   ]
  },
  {
   "cell_type": "code",
   "execution_count": null,
   "id": "6eea893f",
   "metadata": {},
   "outputs": [],
   "source": [
    "dsim.p_nopool = [\n",
    "    mean(logistic.(pond_single_level_df[:,\"a_pond[$i]\"]))\n",
    "    for i ∈ 1:nponds\n",
    "]"
   ]
  },
  {
   "cell_type": "code",
   "execution_count": null,
   "id": "8621b7e9-2753-4676-854a-b115fbb1a377",
   "metadata": {},
   "outputs": [],
   "source": [
    "dsim.p_partpool = [\n",
    "    mean(logistic.(pond_multi_level_df[:,\"a_pond[$i]\"]))\n",
    "    for i ∈ 1:nponds\n",
    "]"
   ]
  },
  {
   "cell_type": "code",
   "execution_count": null,
   "id": "6f6c037d-6a1d-422a-bc60-755441c606c7",
   "metadata": {},
   "outputs": [],
   "source": [
    "nopool_error = abs.(dsim.p_nopool - dsim.true_p)\n",
    "partpool_error = abs.(dsim.p_partpool - dsim.true_p);\n",
    "\n",
    "plt = scatter(nopool_error, xlab=\"pond\", ylab=\"absolute error\", label = \"no pooling\")\n",
    "scatter!(partpool_error, mc=:white, label = \"partial pooling\")\n",
    "\n",
    "vline!([15.5, 30.5, 45.5], c=:black)\n",
    "annotate!([\n",
    "        (7, 0.37, (\"small ponds\", 10)),\n",
    "        (16+7, 0.37, (\"mid-small ponds\", 10)),\n",
    "        (31+7, 0.37, (\"mid-large ponds\", 10)),\n",
    "        (45+7, 0.37, (\"large ponds\", 10))\n",
    "])"
   ]
  },
  {
   "cell_type": "code",
   "execution_count": null,
   "id": "3e167fdc-3122-48fc-a01c-dd6c2869c9f9",
   "metadata": {},
   "outputs": [],
   "source": [
    "dsim.nopool_error = nopool_error;\n",
    "dsim.partpool_error = partpool_error;"
   ]
  },
  {
   "cell_type": "code",
   "execution_count": null,
   "id": "c0759ba5",
   "metadata": {},
   "outputs": [],
   "source": [
    "dsim"
   ]
  },
  {
   "cell_type": "markdown",
   "id": "7323b1ea",
   "metadata": {},
   "source": [
    "### Means of the errors in each cluster"
   ]
  },
  {
   "cell_type": "code",
   "execution_count": null,
   "id": "fac0040b",
   "metadata": {},
   "outputs": [],
   "source": [
    "# group results according to the number of tadpoles\n",
    "gb = groupby(dsim, :Ni)"
   ]
  },
  {
   "cell_type": "code",
   "execution_count": null,
   "id": "94a5915f-a7c2-4fc7-bad9-ff1527b7ac2a",
   "metadata": {},
   "outputs": [],
   "source": [
    "pools = combine(gb, :nopool_error => mean, :partpool_error => mean, :pond => minimum, :pond => maximum)"
   ]
  },
  {
   "cell_type": "code",
   "execution_count": null,
   "id": "37d6a6c8",
   "metadata": {},
   "outputs": [],
   "source": [
    "pools.pond_minimum, pools.pond_maximum # ranges of pond numbers with the same numbers of tadpoles for plotting purpose\n"
   ]
  },
  {
   "cell_type": "code",
   "execution_count": null,
   "id": "ce552ff8-7b8e-4150-b9f4-3f279098c6f5",
   "metadata": {},
   "outputs": [],
   "source": [
    "for i in 1:length(pools.pond_minimum)\n",
    "    plot!([pools.pond_minimum[i],pools.pond_maximum[i]],[pools.nopool_error_mean[i],pools.nopool_error_mean[i]])\n",
    "end\n",
    "\n",
    "for i in 1:length(pools.pond_minimum)\n",
    "    plot!([pools.pond_minimum[i],pools.pond_maximum[i]],[pools.partpool_error_mean[i],pools.partpool_error_mean[i]], line=:dash)\n",
    "end\n",
    "\n",
    "plt"
   ]
  },
  {
   "cell_type": "code",
   "execution_count": null,
   "id": "74d0e9bb-ada4-4cd4-a652-4997750db4ba",
   "metadata": {},
   "outputs": [],
   "source": []
  }
 ],
 "metadata": {
  "kernelspec": {
   "display_name": "Julia 1.10.2",
   "language": "julia",
   "name": "julia-1.10"
  },
  "language_info": {
   "file_extension": ".jl",
   "mimetype": "application/julia",
   "name": "julia",
   "version": "1.10.2"
  }
 },
 "nbformat": 4,
 "nbformat_minor": 5
}
