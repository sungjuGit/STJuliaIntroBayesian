{
 "cells": [
  {
   "cell_type": "code",
   "execution_count": null,
   "id": "2470f691-3b20-4fa3-a8ac-81441c1b5959",
   "metadata": {},
   "outputs": [],
   "source": [
    "using Turing, StatsPlots, DifferentialEquations, LinearAlgebra"
   ]
  },
  {
   "cell_type": "code",
   "execution_count": null,
   "id": "abff868f-4a60-4aa0-bcb3-2750563c33fc",
   "metadata": {},
   "outputs": [],
   "source": [
    "# Define the parameters\n",
    "true_D = 0.25\n",
    "\n",
    "# Temporal domain\n",
    "n_time_points = 6\n",
    "tspan = (0, 0.3)\n",
    "t_domain = range(tspan[1], stop=tspan[2], length=n_time_points)\n",
    "\n",
    "# Spatial domain\n",
    "n_space_points = 21\n",
    "x_domain = range(0, stop=1, length=n_space_points)\n",
    "dx = x_domain[2] - x_domain[1]\n",
    "\n",
    "# Define the initial condition\n",
    "u0 = exp.(-20 *(x_domain .- 0.5).^2);"
   ]
  },
  {
   "cell_type": "code",
   "execution_count": null,
   "id": "94fd626f-5898-49ec-9024-8fe54384ecda",
   "metadata": {},
   "outputs": [],
   "source": [
    "# Define the discretized DE using finite difference method\n",
    "function discretized_diffusion!(du, u, p, t)\n",
    "    D = p[1] # diffusivity # p is an array of parameters\n",
    "    for i in 2:(n_space_points - 1)\n",
    "        du[i] = D * (u[i+1] - 2 * u[i] + u[i-1]) / dx^2;\n",
    "    end\n",
    "    du[1] = du[n_space_points] = 0 # Zero-flux boundary conditions\n",
    "end"
   ]
  },
  {
   "cell_type": "code",
   "execution_count": null,
   "id": "8e4682bc-e13c-4d93-9ac1-7f128c9f62af",
   "metadata": {},
   "outputs": [],
   "source": [
    "# Solve the discretized PDE to obtain true states\n",
    "p_true = [true_D]\n",
    "true_problem = ODEProblem(discretized_diffusion!, u0, tspan, p_true)\n",
    "true_solution = solve(true_problem, Tsit5(), saveat=t_domain)"
   ]
  },
  {
   "cell_type": "code",
   "execution_count": null,
   "id": "8d66bdc2-b1a8-4fc7-b8b8-0f82b3045700",
   "metadata": {},
   "outputs": [],
   "source": [
    "# Generate noisy observations\n",
    "noise_std = 0.1\n",
    "noisy_data = true_solution .+ randn(n_space_points,n_time_points) * noise_std;"
   ]
  },
  {
   "cell_type": "code",
   "execution_count": null,
   "id": "51b2ffca-6c29-413a-b2b0-15ba35ffa392",
   "metadata": {},
   "outputs": [],
   "source": [
    "# Plot the true solution and noisy observations\n",
    "p = plot(x_domain, true_solution[:, 1], label=\"True Solution\", lw=2, color=:blue, alpha=0.5)\n",
    "scatter!(x_domain, noisy_data[:, 1], label=\"Noisy Observations\", color=:red, legend=:topleft, markersize=3)"
   ]
  },
  {
   "cell_type": "code",
   "execution_count": null,
   "id": "47ec888f-f2db-4e55-bdf4-b844cb384b6e",
   "metadata": {},
   "outputs": [],
   "source": [
    "for i in 2:n_time_points\n",
    "    plot!(x_domain, true_solution[:, i], lw=2, label=\"\", color=:blue, alpha=0.5)\n",
    "    scatter!(x_domain, noisy_data[:, i], color=:red, label=\"\", markersize=3, markerstrokewidth=0)\n",
    "end \n",
    "p"
   ]
  },
  {
   "cell_type": "code",
   "execution_count": null,
   "id": "be41b2d5-536c-4966-a3fd-dc2c973026a7",
   "metadata": {},
   "outputs": [],
   "source": [
    "@model function fit_diffusion(observed_data, t_domain)\n",
    "\n",
    "    # Define the prior distribution for the diffusion coefficient\n",
    "    D ~ Beta(2, 3)\n",
    "    ### try different priors for your mini project\n",
    "\n",
    "    # And the prior distribution for the noise\n",
    "    σ ~ InverseGamma(10, 3)\n",
    "    ### try different priors for your mini project\n",
    "\n",
    "\n",
    "    # Solve the discretized PDE with the current parameter value\n",
    "    param = [ D ]\n",
    "    problem = ODEProblem(discretized_diffusion!, u0, tspan, param)\n",
    "    prediction = solve(problem, Tsit5(), saveat=t_domain)\n",
    "\n",
    "    # Define the likelihood for the observed data    #observed_data ~ arraydist(Normal.(prediction, σ))\n",
    "    for i in 1:length(prediction)\n",
    "        observed_data[:, i] ~ MvNormal(prediction[i], σ^2*I)\n",
    "    end\n",
    "    \n",
    "end"
   ]
  },
  {
   "cell_type": "code",
   "execution_count": null,
   "id": "1169cb32-86b2-4c98-bac2-bc38ee6bdd99",
   "metadata": {},
   "outputs": [],
   "source": [
    "# Run the sampler\n",
    "model = fit_diffusion(noisy_data, t_domain)\n",
    "chain = sample(model, NUTS(), 1000)\n",
    "plot(chain)"
   ]
  },
  {
   "cell_type": "code",
   "execution_count": null,
   "id": "d5a7cbbb-9a88-4b7e-81f6-1a5578bfb7d0",
   "metadata": {},
   "outputs": [],
   "source": [
    "# what if we observe only the first time step\n",
    "model_short = fit_diffusion(noisy_data[:,1:2], t_domain[1:2])\n",
    "chain_short = sample(model_short, NUTS(), 1000)\n",
    "plot(chain_short)"
   ]
  },
  {
   "cell_type": "code",
   "execution_count": null,
   "id": "4b5f5a97-496e-46a3-921d-e31753a790a3",
   "metadata": {},
   "outputs": [],
   "source": []
  }
 ],
 "metadata": {
  "kernelspec": {
   "display_name": "Julia 1.10.2",
   "language": "julia",
   "name": "julia-1.10"
  },
  "language_info": {
   "file_extension": ".jl",
   "mimetype": "application/julia",
   "name": "julia",
   "version": "1.10.2"
  }
 },
 "nbformat": 4,
 "nbformat_minor": 5
}
